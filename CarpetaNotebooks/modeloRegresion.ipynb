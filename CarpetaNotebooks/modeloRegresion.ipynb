{
  "cells": [
    {
      "cell_type": "markdown",
      "metadata": {
        "id": "view-in-github",
        "colab_type": "text"
      },
      "source": [
        "<a href=\"https://colab.research.google.com/github/DiegoMeloCoder/Machine_Learning_T3Profundizacion/blob/main/modeloRandomForest.ipynb\" target=\"_parent\"><img src=\"https://colab.research.google.com/assets/colab-badge.svg\" alt=\"Open In Colab\"/></a>"
      ]
    },
    {
      "cell_type": "markdown",
      "metadata": {
        "id": "e63PJlNc7sG2"
      },
      "source": [
        "Conexion"
      ]
    },
    {
      "cell_type": "code",
      "execution_count": null,
      "metadata": {
        "id": "Mz9C48d17xFp"
      },
      "outputs": [],
      "source": [
        "from os import read\n",
        "import sqlite3\n",
        "import pandas as pd\n",
        "\n",
        "# Conexion\n",
        "conexion = sqlite3.connect('datos_sensores.db')\n",
        "\n",
        "# Codigo sql para hacer consulta\n",
        "query = \"\"\"\n",
        "\n",
        "SELECT\n",
        "\n",
        "    datos_basicos.tamaño,\n",
        "    datos_basicos.categoria,\n",
        "    orion.sensor_orion,\n",
        "    vega.sensor_vega,\n",
        "    polaris.sensor_polaris,\n",
        "    antares.sensor_antares,\n",
        "    clasificacion.id,\n",
        "    CASE\n",
        "        WHEN clasificacion.etiqueta = 'Positivo' THEN 1\n",
        "        ELSE 0\n",
        "    END as segmento_numerico\n",
        "FROM datos_basicos\n",
        "LEFT JOIN orion ON datos_basicos.id = orion.id\n",
        "LEFT JOIN vega ON datos_basicos.id = vega.id\n",
        "LEFT JOIN polaris ON datos_basicos.id = polaris.id\n",
        "LEFT JOIN antares ON datos_basicos.id = antares.id\n",
        "LEFT JOIN clasificacion ON datos_basicos.id = clasificacion.id\n",
        "WHERE clasificacion.etiqueta IS NOT NULL AND clasificacion.etiqueta <> '';\n",
        "\n",
        "\"\"\"\n",
        "dataset = pd.read_sql_query(query,conexion)\n"
      ]
    },
    {
      "cell_type": "markdown",
      "metadata": {
        "id": "J1IIaMWh73gd"
      },
      "source": [
        "Creacion y Entrenamiento del modelo con Random Forest"
      ]
    },
    {
      "cell_type": "code",
      "execution_count": null,
      "metadata": {
        "id": "auT0CsBf74QF"
      },
      "outputs": [],
      "source": [
        "from sklearn.ensemble import RandomForestClassifier\n",
        "from sklearn.metrics import accuracy_score, classification_report,confusion_matrix;\n",
        "from imblearn.over_sampling import SMOTE\n",
        "from sklearn.preprocessing import StandardScaler\n",
        "from sklearn.model_selection import train_test_split\n",
        "\n",
        "X = dataset.drop(['segmento_numerico','id','tamaño','categoria'], axis=1)\n",
        "Y = dataset['segmento_numerico']\n",
        "\n",
        "X_Train, X_Test, Y_Train, Y_Test = train_test_split(X, Y, test_size=0.2, random_state=10)\n",
        "\n",
        "# Normalización de datos\n",
        "scaler = StandardScaler()\n",
        "X_Train_scaled = scaler.fit_transform(X_Train)\n",
        "X_Test_scaled = scaler.transform(X_Test)\n",
        "\n",
        "# Manejo de desequilibrio de clases con SMOTE\n",
        "smote = SMOTE(random_state=1)\n",
        "X_Train_resampled, Y_Train_resampled = smote.fit_resample(X_Train_scaled, Y_Train)\n"
      ]
    },
    {
      "cell_type": "code",
      "execution_count": null,
      "metadata": {
        "colab": {
          "base_uri": "https://localhost:8080/"
        },
        "id": "PrfImsheLIOr",
        "outputId": "fabc1fd2-1f17-49f9-cc76-1d1ea40b5ea7"
      },
      "outputs": [
        {
          "output_type": "execute_result",
          "data": {
            "text/plain": [
              "0.934"
            ]
          },
          "metadata": {},
          "execution_count": 4
        }
      ],
      "source": [
        "# Modelo RandomForest\n",
        "modelo_rf = RandomForestClassifier( n_estimators=120,  # Puedes ajustar este valor\n",
        "    max_depth=50,    # Puedes ajustar este valor\n",
        "    min_samples_split=2,  # Puedes ajustar este valor\n",
        "    min_samples_leaf=1,   # Puedes ajustar este valor\n",
        "    random_state=1)\n",
        "modelo_rf.fit(X_Train_resampled, Y_Train_resampled)\n",
        "\n",
        "# Predicciones y evaluación del modelo\n",
        "predicciones_rf = modelo_rf.predict(X_Test_scaled)\n",
        "\n",
        "# accuracy\n",
        "\n",
        "accuracy= accuracy_score(Y_Test,predicciones_rf)\n",
        "accuracy"
      ]
    },
    {
      "cell_type": "code",
      "execution_count": null,
      "metadata": {
        "id": "wNVA_S5SO7zI"
      },
      "outputs": [],
      "source": [
        " # query que selecciona los datos faltantes\n",
        " query2 = \"\"\"\n",
        "\n",
        "SELECT\n",
        "datos_basicos.tamaño,\n",
        "    datos_basicos.categoria,\n",
        "    orion.sensor_orion,\n",
        "    vega.sensor_vega,\n",
        "    polaris.sensor_polaris,\n",
        "    antares.sensor_antares,\n",
        "    clasificacion.id,\n",
        "    CASE\n",
        "        WHEN clasificacion.etiqueta = 'Positivo' THEN 1\n",
        "        ELSE 0\n",
        "    END as segmento_numerico\n",
        "\tFROM datos_basicos\n",
        "LEFT JOIN orion ON datos_basicos.id = orion.id\n",
        "LEFT JOIN vega ON datos_basicos.id = vega.id\n",
        "LEFT JOIN polaris ON datos_basicos.id = polaris.id\n",
        "LEFT JOIN antares ON datos_basicos.id = antares.id\n",
        "LEFT JOIN clasificacion ON datos_basicos.id = clasificacion.id\n",
        "WHERE clasificacion.etiqueta IS NULL OR clasificacion.etiqueta = '';\n",
        "\n",
        " \"\"\"\n",
        "\n",
        " dataset2 = pd.read_sql_query(query2,conexion)\n",
        "\n",
        "# Predictores de las variables a rellenar\n",
        "X_completar = dataset2.drop(['segmento_numerico', 'id','tamaño','categoria'],axis=1)\n",
        "\n",
        "#Normalizacion\n",
        "X_completar_scaled = scaler.transform(X_completar)"
      ]
    },
    {
      "cell_type": "code",
      "source": [
        "# Variable que contiene los datos faltantes\n",
        "Datos_Faltantes = modelo_rf.predict(X_completar_scaled)\n",
        "\n",
        "\n",
        "resultados_prediccion = pd.DataFrame({\n",
        "    'id': dataset2['id'],  # Tomamos 'id' de dataset2\n",
        "    'Prediccion_Modelo': Datos_Faltantes\n",
        "})\n",
        "\n",
        "# Mostrar el DataFrame con los resultados\n",
        "print(resultados_prediccion)"
      ],
      "metadata": {
        "colab": {
          "base_uri": "https://localhost:8080/"
        },
        "id": "OuUA_WaEYsWa",
        "outputId": "54032eb9-a937-4e2e-89fc-742b9ad62ee4"
      },
      "execution_count": null,
      "outputs": [
        {
          "output_type": "stream",
          "name": "stdout",
          "text": [
            "        id  Prediccion_Modelo\n",
            "0   300001                  0\n",
            "1   300002                  0\n",
            "2   300003                  1\n",
            "3   300004                  1\n",
            "4   300005                  1\n",
            "..     ...                ...\n",
            "95  300096                  1\n",
            "96  300097                  1\n",
            "97  300098                  1\n",
            "98  300099                  1\n",
            "99  300100                  1\n",
            "\n",
            "[100 rows x 2 columns]\n"
          ]
        }
      ]
    },
    {
      "cell_type": "code",
      "source": [
        "resultados_prediccion.to_csv('predicciones.csv', index=False)"
      ],
      "metadata": {
        "id": "1aimj66dbMf9"
      },
      "execution_count": null,
      "outputs": []
    },
    {
      "cell_type": "code",
      "source": [
        "reporte = classification_report(Y_Test,predicciones_rf)\n",
        "print(reporte)"
      ],
      "metadata": {
        "colab": {
          "base_uri": "https://localhost:8080/"
        },
        "id": "QGh-TDt4mvx6",
        "outputId": "31b82831-f04f-41b6-8d31-0aef295d58b9"
      },
      "execution_count": null,
      "outputs": [
        {
          "output_type": "stream",
          "name": "stdout",
          "text": [
            "              precision    recall  f1-score   support\n",
            "\n",
            "           0       0.97      0.90      0.93     30247\n",
            "           1       0.91      0.97      0.94     29753\n",
            "\n",
            "    accuracy                           0.93     60000\n",
            "   macro avg       0.94      0.93      0.93     60000\n",
            "weighted avg       0.94      0.93      0.93     60000\n",
            "\n"
          ]
        }
      ]
    },
    {
      "cell_type": "code",
      "source": [
        "matriz_confusion = confusion_matrix(Y_Test,predicciones_rf)\n",
        "print(matriz_confusion)"
      ],
      "metadata": {
        "colab": {
          "base_uri": "https://localhost:8080/"
        },
        "id": "0p3z2tOCvDAP",
        "outputId": "8c872c6c-1850-4f69-ae41-c5c22971532e"
      },
      "execution_count": null,
      "outputs": [
        {
          "output_type": "stream",
          "name": "stdout",
          "text": [
            "[[27260  2987]\n",
            " [  973 28780]]\n"
          ]
        }
      ]
    }
  ],
  "metadata": {
    "colab": {
      "provenance": [],
      "include_colab_link": true
    },
    "kernelspec": {
      "display_name": "Python 3",
      "name": "python3"
    },
    "language_info": {
      "name": "python"
    }
  },
  "nbformat": 4,
  "nbformat_minor": 0
}